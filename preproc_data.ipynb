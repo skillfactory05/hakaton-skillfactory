{
 "cells": [
  {
   "cell_type": "code",
   "execution_count": 95,
   "metadata": {},
   "outputs": [],
   "source": [
    "import pandas as pd\n",
    "import numpy as np\n",
    "import matplotlib.pyplot as plt\n",
    "from sklearn.preprocessing import OneHotEncoder\n",
    "from catboost import Pool, CatBoostRegressor, CatBoost, CatBoostClassifier\n",
    "from sklearn.model_selection import train_test_split\n",
    "from sklearn.neighbors import KNeighborsClassifier\n",
    "from sklearn.tree import DecisionTreeClassifier\n",
    "from sklearn.linear_model import LogisticRegression\n",
    "from sklearn.ensemble import RandomForestClassifier\n",
    "from sklearn.feature_extraction.text import TfidfVectorizer\n",
    "from sklearn.preprocessing import StandardScaler, MinMaxScaler\n",
    "from sklearn.metrics import mean_squared_log_error, mean_squared_error\n",
    "from sklearn.pipeline import Pipeline\n",
    "from sklearn.metrics import roc_auc_score\n",
    "from scipy.stats import randint as randint\n",
    "from scipy.stats import uniform\n",
    "from sklearn.model_selection import cross_val_score\n",
    "import re # Регулярные выражения.\n",
    "import string\n",
    "import datetime\n",
    "import pymystem3\n",
    "\n",
    "try:\n",
    "    from sklearn.model_selection import GridSearchCV\n",
    "    from sklearn.model_selection import RandomizedSearchCV\n",
    "    from sklearn.model_selection import StratifiedKFold\n",
    "except ImportError:\n",
    "    from sklearn.cross_validation import GridSearchCV\n",
    "    from sklearn.cross_validation import RandomizedSearchCV\n",
    "    from sklearn.cross_validation import StratifiedKFold\n",
    "\n",
    "\n",
    "ohe = OneHotEncoder(sparse = False)\n",
    "mystem=pymystem3.Mystem()\n",
    "%matplotlib inline\n",
    "\n",
    "plt.style.use('ggplot')\n",
    "plt.rcParams['figure.figsize'] = (12,5)\n",
    "def rmsle(h, y): \n",
    "    \"\"\"\n",
    "    Compute the Root Mean Squared Log Error for hypthesis h and targets y\n",
    "\n",
    "    Args:\n",
    "        h - numpy array containing predictions with shape (n_samples, n_targets)\n",
    "        y - numpy array containing targets with shape (n_samples, n_targets)\n",
    "    \"\"\"\n",
    "    return np.sqrt(np.square(np.log(h + 1) - np.log(y + 1)).mean())"
   ]
  },
  {
   "cell_type": "markdown",
   "metadata": {},
   "source": [
    "Для вас представлена задача, сделанная на открытых данных.\n",
    "Вам нужно предсказать цену товара по другим имеющимся характеристикам.\n",
    "Метрика качества RMSLE.<br>\n",
    "ЦЕНА в КОПЕЙКАХ!!\n",
    "Но предсказания нужны в РУБЛЯХ\n",
    "потому - сразу поделите в train прайс на 100"
   ]
  },
  {
   "cell_type": "raw",
   "metadata": {},
   "source": [
    "can_buy - возможно ли купить этот товар,\n",
    "can_promote - возможность продвигать товар,\n",
    "category - категория товара,\n",
    "contacts_visible - видны ли контакты,\n",
    "date_created - таймстемп создания товара,\n",
    "delivery_available - возможность доставки,\n",
    "description - описание,\n",
    "fields - свойства товара,\n",
    "id - идентификатор продукта,\n",
    "images - id картинок,\n",
    "location - местрорасположение,\n",
    "mortgage_available - возможность ипотеки,\n",
    "name - название,\n",
    "payment_available - возможность онлайн оплаты,\n",
    "price - цена (в копейках),\n",
    "subcategory - подкатегория,\n",
    "subway - метро"
   ]
  },
  {
   "cell_type": "code",
   "execution_count": 2,
   "metadata": {},
   "outputs": [],
   "source": [
    "df_train = pd.read_pickle('./data/train_sample.pckl')"
   ]
  },
  {
   "cell_type": "code",
   "execution_count": 96,
   "metadata": {},
   "outputs": [],
   "source": [
    "df_test = pd.read_pickle('./data/test_hack.pckl')"
   ]
  },
  {
   "cell_type": "code",
   "execution_count": 97,
   "metadata": {},
   "outputs": [
    {
     "name": "stdout",
     "output_type": "stream",
     "text": [
      "\u001b[0m"
     ]
    }
   ],
   "source": [
    "!telegram-send 'success'"
   ]
  },
  {
   "cell_type": "code",
   "execution_count": 98,
   "metadata": {},
   "outputs": [
    {
     "data": {
      "text/html": [
       "<div>\n",
       "<style scoped>\n",
       "    .dataframe tbody tr th:only-of-type {\n",
       "        vertical-align: middle;\n",
       "    }\n",
       "\n",
       "    .dataframe tbody tr th {\n",
       "        vertical-align: top;\n",
       "    }\n",
       "\n",
       "    .dataframe thead th {\n",
       "        text-align: right;\n",
       "    }\n",
       "</style>\n",
       "<table border=\"1\" class=\"dataframe\">\n",
       "  <thead>\n",
       "    <tr style=\"text-align: right;\">\n",
       "      <th></th>\n",
       "      <th>can_buy</th>\n",
       "      <th>can_promote</th>\n",
       "      <th>category</th>\n",
       "      <th>contacts_visible</th>\n",
       "      <th>date_created</th>\n",
       "      <th>delivery_available</th>\n",
       "      <th>description</th>\n",
       "      <th>fields</th>\n",
       "      <th>id</th>\n",
       "      <th>images</th>\n",
       "      <th>location</th>\n",
       "      <th>mortgage_available</th>\n",
       "      <th>name</th>\n",
       "      <th>payment_available</th>\n",
       "      <th>subcategory</th>\n",
       "      <th>subway</th>\n",
       "    </tr>\n",
       "  </thead>\n",
       "  <tbody>\n",
       "    <tr>\n",
       "      <th>4</th>\n",
       "      <td>False</td>\n",
       "      <td>False</td>\n",
       "      <td>6</td>\n",
       "      <td>True</td>\n",
       "      <td>1517061944</td>\n",
       "      <td>True</td>\n",
       "      <td>Стремянка трехсекционная,3×4</td>\n",
       "      <td>[{'field': {'name': 'Ремонт и строительство', ...</td>\n",
       "      <td>285ea2e9935ccdeb8378c6a5</td>\n",
       "      <td>[{'id': '5a6c864a074b3e7d207f3522', 'num': 1, ...</td>\n",
       "      <td>{'latitude': 54.749969, 'longitude': 55.993774}</td>\n",
       "      <td>False</td>\n",
       "      <td>Стремянка</td>\n",
       "      <td>True</td>\n",
       "      <td>603</td>\n",
       "      <td>NaN</td>\n",
       "    </tr>\n",
       "    <tr>\n",
       "      <th>9</th>\n",
       "      <td>False</td>\n",
       "      <td>False</td>\n",
       "      <td>2</td>\n",
       "      <td>True</td>\n",
       "      <td>1508310389</td>\n",
       "      <td>False</td>\n",
       "      <td>Плита ЭВИ 5120. Работают 3 конфорки и духовка....</td>\n",
       "      <td>[{'field': {'name': 'Бытовая техника', 'id': 2...</td>\n",
       "      <td>adfb73820bbb831257df6e95</td>\n",
       "      <td>[{'id': '59e6fc49f202633e173ad413', 'num': 1, ...</td>\n",
       "      <td>{'latitude': 59.737736, 'longitude': 30.078828}</td>\n",
       "      <td>False</td>\n",
       "      <td>Плита электрическая</td>\n",
       "      <td>True</td>\n",
       "      <td>203</td>\n",
       "      <td>NaN</td>\n",
       "    </tr>\n",
       "    <tr>\n",
       "      <th>15</th>\n",
       "      <td>False</td>\n",
       "      <td>False</td>\n",
       "      <td>1</td>\n",
       "      <td>True</td>\n",
       "      <td>1517089590</td>\n",
       "      <td>False</td>\n",
       "      <td>Все лоты привезены с площадок и аукционов Япон...</td>\n",
       "      <td>[{'field': {'name': 'Транспорт и автотовары', ...</td>\n",
       "      <td>783025601c36202f633fc6a5</td>\n",
       "      <td>[{'id': '5a6cf2b65eaa9e4973249b62', 'num': 1, ...</td>\n",
       "      <td>{'latitude': 55.989156, 'longitude': 37.145419}</td>\n",
       "      <td>False</td>\n",
       "      <td>Диски R17 Rays MazdaSpeed Touring 5х114.3 7J</td>\n",
       "      <td>False</td>\n",
       "      <td>116</td>\n",
       "      <td>NaN</td>\n",
       "    </tr>\n",
       "    <tr>\n",
       "      <th>19</th>\n",
       "      <td>False</td>\n",
       "      <td>False</td>\n",
       "      <td>10</td>\n",
       "      <td>True</td>\n",
       "      <td>1509378271</td>\n",
       "      <td>False</td>\n",
       "      <td></td>\n",
       "      <td>[{'field': {'name': 'Хобби и развлечения', 'id...</td>\n",
       "      <td>2f0cd2d2e15dc90afd847f95</td>\n",
       "      <td>[{'id': '59f748bca09cd5081f40d786', 'num': 1, ...</td>\n",
       "      <td>{'latitude': 55.805178, 'longitude': 37.771612}</td>\n",
       "      <td>False</td>\n",
       "      <td>Batman Archam Knight</td>\n",
       "      <td>True</td>\n",
       "      <td>1009</td>\n",
       "      <td>NaN</td>\n",
       "    </tr>\n",
       "    <tr>\n",
       "      <th>20</th>\n",
       "      <td>False</td>\n",
       "      <td>False</td>\n",
       "      <td>11</td>\n",
       "      <td>True</td>\n",
       "      <td>1515487857</td>\n",
       "      <td>False</td>\n",
       "      <td>Отдаю ледобур времён с.с.с.р диаметр 130 мм бе...</td>\n",
       "      <td>[{'field': {'name': 'Спорт и отдых', 'id': 11,...</td>\n",
       "      <td>5c23a37902855a20172845a5</td>\n",
       "      <td>[{'id': '5a548186c6ab9e73a2056162', 'num': 1, ...</td>\n",
       "      <td>{'latitude': 59.843029, 'longitude': 30.246231}</td>\n",
       "      <td>False</td>\n",
       "      <td>Ледобур для зимней рыбалки</td>\n",
       "      <td>False</td>\n",
       "      <td>1104</td>\n",
       "      <td>NaN</td>\n",
       "    </tr>\n",
       "  </tbody>\n",
       "</table>\n",
       "</div>"
      ],
      "text/plain": [
       "    can_buy  can_promote  category  contacts_visible  date_created  \\\n",
       "4     False        False         6              True    1517061944   \n",
       "9     False        False         2              True    1508310389   \n",
       "15    False        False         1              True    1517089590   \n",
       "19    False        False        10              True    1509378271   \n",
       "20    False        False        11              True    1515487857   \n",
       "\n",
       "    delivery_available                                        description  \\\n",
       "4                 True                       Стремянка трехсекционная,3×4   \n",
       "9                False  Плита ЭВИ 5120. Работают 3 конфорки и духовка....   \n",
       "15               False  Все лоты привезены с площадок и аукционов Япон...   \n",
       "19               False                                                      \n",
       "20               False  Отдаю ледобур времён с.с.с.р диаметр 130 мм бе...   \n",
       "\n",
       "                                               fields  \\\n",
       "4   [{'field': {'name': 'Ремонт и строительство', ...   \n",
       "9   [{'field': {'name': 'Бытовая техника', 'id': 2...   \n",
       "15  [{'field': {'name': 'Транспорт и автотовары', ...   \n",
       "19  [{'field': {'name': 'Хобби и развлечения', 'id...   \n",
       "20  [{'field': {'name': 'Спорт и отдых', 'id': 11,...   \n",
       "\n",
       "                          id  \\\n",
       "4   285ea2e9935ccdeb8378c6a5   \n",
       "9   adfb73820bbb831257df6e95   \n",
       "15  783025601c36202f633fc6a5   \n",
       "19  2f0cd2d2e15dc90afd847f95   \n",
       "20  5c23a37902855a20172845a5   \n",
       "\n",
       "                                               images  \\\n",
       "4   [{'id': '5a6c864a074b3e7d207f3522', 'num': 1, ...   \n",
       "9   [{'id': '59e6fc49f202633e173ad413', 'num': 1, ...   \n",
       "15  [{'id': '5a6cf2b65eaa9e4973249b62', 'num': 1, ...   \n",
       "19  [{'id': '59f748bca09cd5081f40d786', 'num': 1, ...   \n",
       "20  [{'id': '5a548186c6ab9e73a2056162', 'num': 1, ...   \n",
       "\n",
       "                                           location  mortgage_available  \\\n",
       "4   {'latitude': 54.749969, 'longitude': 55.993774}               False   \n",
       "9   {'latitude': 59.737736, 'longitude': 30.078828}               False   \n",
       "15  {'latitude': 55.989156, 'longitude': 37.145419}               False   \n",
       "19  {'latitude': 55.805178, 'longitude': 37.771612}               False   \n",
       "20  {'latitude': 59.843029, 'longitude': 30.246231}               False   \n",
       "\n",
       "                                            name  payment_available  \\\n",
       "4                                      Стремянка               True   \n",
       "9                            Плита электрическая               True   \n",
       "15  Диски R17 Rays MazdaSpeed Touring 5х114.3 7J              False   \n",
       "19                          Batman Archam Knight               True   \n",
       "20                    Ледобур для зимней рыбалки              False   \n",
       "\n",
       "    subcategory subway  \n",
       "4           603    NaN  \n",
       "9           203    NaN  \n",
       "15          116    NaN  \n",
       "19         1009    NaN  \n",
       "20         1104    NaN  "
      ]
     },
     "execution_count": 98,
     "metadata": {},
     "output_type": "execute_result"
    }
   ],
   "source": [
    "df_test.head()"
   ]
  },
  {
   "cell_type": "code",
   "execution_count": null,
   "metadata": {},
   "outputs": [],
   "source": [
    "df_train[:100]"
   ]
  },
  {
   "cell_type": "code",
   "execution_count": null,
   "metadata": {},
   "outputs": [],
   "source": [
    "df_train.info()"
   ]
  },
  {
   "cell_type": "code",
   "execution_count": 99,
   "metadata": {},
   "outputs": [],
   "source": [
    "def replace_logical(s):\n",
    "    if s:\n",
    "        return 1\n",
    "    else:\n",
    "        return 0\n",
    "def transformYear(val):\n",
    "    #year = datetime.datetime.fromtimestamp(int(df_train.date_created[0])).year\n",
    "    year = datetime.datetime.fromtimestamp(int(val)).year\n",
    "    return year\n",
    "\n",
    "def transformMonth(val):\n",
    "    month = datetime.datetime.fromtimestamp(val).month\n",
    "    return month\n",
    "\n",
    "def get_latitude(val):\n",
    "    res = val['latitude']\n",
    "    return res\n",
    "\n",
    "def get_longitude(val):\n",
    "    res = val['longitude']\n",
    "    return res\n",
    "\n",
    "def preprocess_data(df_input):\n",
    "    df_output = df_input\n",
    "    df_output = pd.get_dummies(df_output)\n",
    "    return df_output\n",
    "\n",
    "def data_initial_preproc (df_input):\n",
    "    \n",
    "    df_output = df_input\n",
    "    #df_output['price'] = df_output['price']/100\n",
    "    df_output['can_buy'] = df_output['can_buy'].map(lambda s: replace_logical(s))\n",
    "    df_output['can_promote'] = df_output['can_promote'].map(lambda s: replace_logical(s))\n",
    "    df_output['contacts_visible'] = df_output['contacts_visible'].map(lambda s: replace_logical(s))\n",
    "    df_output['mortgage_available'] = df_output['mortgage_available'].map(lambda s: replace_logical(s))\n",
    "    df_output['delivery_available'] = df_output['delivery_available'].map(lambda s: replace_logical(s))\n",
    "    df_output['payment_available'] = df_output['payment_available'].map(lambda s: replace_logical(s))\n",
    "    df_output['year']=df_output['date_created'].map(transformYear)\n",
    "    df_output['month']=df_output['date_created'].map(transformMonth)\n",
    "    df_output = df_output.drop(['date_created', 'description', 'fields', 'id', 'images', 'subway'], axis = 1)\n",
    "    df_output = df_output.drop(['can_buy', 'can_promote', 'category'], axis = 1)\n",
    "    #df_output = df_output[df_output['price']>0]\n",
    "    df_output = df_output.drop(['name'], axis = 1)\n",
    "    df_output['latitude'] = df_output['location'].map(get_latitude)\n",
    "    df_output['longitude'] = df_output['location'].map(get_longitude)\n",
    "    df_output = df_output.drop(['location'],axis = 1)\n",
    "    #df_output['price'] = np.log10(df_output['price'] + 1)\n",
    "    df_output['subcategory'] = df_output['subcategory'].map(lambda s: 'S' + str(s))\n",
    "    df_output = df_output.pipe(preprocess_data)\n",
    "    \n",
    "    return df_output"
   ]
  },
  {
   "cell_type": "code",
   "execution_count": 101,
   "metadata": {},
   "outputs": [],
   "source": [
    "df_test_preproc = df_test.pipe(data_initial_preproc)"
   ]
  },
  {
   "cell_type": "code",
   "execution_count": 104,
   "metadata": {},
   "outputs": [
    {
     "name": "stderr",
     "output_type": "stream",
     "text": [
      "/anaconda3/lib/python3.6/site-packages/sklearn/base.py:311: UserWarning: Trying to unpickle estimator DecisionTreeRegressor from version 0.18.1 when using version 0.19.1. This might lead to breaking code or invalid results. Use at your own risk.\n",
      "  UserWarning)\n",
      "/anaconda3/lib/python3.6/site-packages/sklearn/base.py:311: UserWarning: Trying to unpickle estimator RandomForestRegressor from version 0.18.1 when using version 0.19.1. This might lead to breaking code or invalid results. Use at your own risk.\n",
      "  UserWarning)\n"
     ]
    }
   ],
   "source": [
    "import pickle\n",
    "model = pickle.load(open('model.pckl', 'rb'))"
   ]
  },
  {
   "cell_type": "code",
   "execution_count": 110,
   "metadata": {},
   "outputs": [],
   "source": [
    "prediction = model.predict(df_test_preproc)"
   ]
  },
  {
   "cell_type": "code",
   "execution_count": 111,
   "metadata": {},
   "outputs": [
    {
     "data": {
      "text/plain": [
       "array([3.3192824 , 3.65316057, 3.23486309, ..., 2.9314511 , 3.48814208,\n",
       "       3.10256722])"
      ]
     },
     "execution_count": 111,
     "metadata": {},
     "output_type": "execute_result"
    }
   ],
   "source": [
    "prediction"
   ]
  },
  {
   "cell_type": "code",
   "execution_count": 114,
   "metadata": {},
   "outputs": [],
   "source": [
    "result = 10**prediction - 1"
   ]
  },
  {
   "cell_type": "code",
   "execution_count": 116,
   "metadata": {},
   "outputs": [],
   "source": [
    "submission = pd.DataFrame()\n",
    "submission.loc[:,'id'] = df_test.reset_index()['id']\n",
    "submission.loc[:,'price'] = result\n",
    "submission.to_csv('submission2.csv', sep=',', index=False, encoding='utf-8')"
   ]
  },
  {
   "cell_type": "code",
   "execution_count": 126,
   "metadata": {},
   "outputs": [],
   "source": [
    "X_train, X_test, y_train, y_test = train_test_split(X, y, test_size=0.3, random_state=13)"
   ]
  },
  {
   "cell_type": "code",
   "execution_count": 134,
   "metadata": {},
   "outputs": [
    {
     "data": {
      "text/plain": [
       "<catboost.core.CatBoostRegressor at 0x1c93f25f98>"
      ]
     },
     "execution_count": 134,
     "metadata": {},
     "output_type": "execute_result"
    }
   ],
   "source": [
    "train_pool = Pool(X_train, y_train, cat_features=[3])\n",
    "test_pool = Pool(X_test, cat_features=[3]) \n",
    "\n",
    "cbr_model = CatBoostRegressor(iterations=3200,\n",
    "                            learning_rate=0.01,\n",
    "                            loss_function='RMSE',\n",
    "                            eval_metric='RMSE',\n",
    "                            random_seed=99,\n",
    "                            od_type='Iter',\n",
    "                            od_wait=50)\n",
    "cbr_model.fit(train_pool, eval_set=(X_test, y_test), use_best_model=True, verbose=False)"
   ]
  },
  {
   "cell_type": "code",
   "execution_count": 137,
   "metadata": {},
   "outputs": [],
   "source": [
    "preds = cbr_model.predict(X_test)"
   ]
  },
  {
   "cell_type": "code",
   "execution_count": 138,
   "metadata": {},
   "outputs": [
    {
     "data": {
      "text/plain": [
       "1.0650063982654892"
      ]
     },
     "execution_count": 138,
     "metadata": {},
     "output_type": "execute_result"
    }
   ],
   "source": [
    "mean_squared_log_error(y_test, preds)"
   ]
  },
  {
   "cell_type": "code",
   "execution_count": 135,
   "metadata": {},
   "outputs": [],
   "source": [
    "prediction2 = cbr_model.predict(df_test_preproc)"
   ]
  },
  {
   "cell_type": "code",
   "execution_count": null,
   "metadata": {},
   "outputs": [],
   "source": [
    "result2 = 10**prediction2 - 1"
   ]
  },
  {
   "cell_type": "code",
   "execution_count": null,
   "metadata": {},
   "outputs": [],
   "source": [
    "submission = pd.DataFrame()\n",
    "submission.loc[:,'id'] = df_test.reset_index()['id']\n",
    "submission.loc[:,'price'] = result\n",
    "submission.to_csv('submission2.csv', sep=',', index=False, encoding='utf-8')"
   ]
  }
 ],
 "metadata": {
  "kernelspec": {
   "display_name": "Python 3",
   "language": "python",
   "name": "python3"
  },
  "language_info": {
   "codemirror_mode": {
    "name": "ipython",
    "version": 3
   },
   "file_extension": ".py",
   "mimetype": "text/x-python",
   "name": "python",
   "nbconvert_exporter": "python",
   "pygments_lexer": "ipython3",
   "version": "3.6.4"
  }
 },
 "nbformat": 4,
 "nbformat_minor": 2
}
