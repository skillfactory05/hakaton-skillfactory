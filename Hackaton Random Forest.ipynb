{
 "cells": [
  {
   "cell_type": "code",
   "execution_count": 1,
   "metadata": {
    "collapsed": true
   },
   "outputs": [],
   "source": [
    "import pickle\n",
    "import pandas as pd\n",
    "import re\n",
    "from tqdm import tqdm"
   ]
  },
  {
   "cell_type": "code",
   "execution_count": 2,
   "metadata": {
    "collapsed": true
   },
   "outputs": [],
   "source": [
    "import time\n",
    "import datetime\n",
    "import seaborn as sns\n",
    "import numpy as np"
   ]
  },
  {
   "cell_type": "code",
   "execution_count": 3,
   "metadata": {
    "collapsed": true
   },
   "outputs": [],
   "source": [
    "def replace_logical(s):\n",
    "    if s:\n",
    "        return 1\n",
    "    else:\n",
    "        return 0\n",
    "def transformYear(val):\n",
    "    #year = datetime.datetime.fromtimestamp(int(df_train.date_created[0])).year\n",
    "    year = datetime.datetime.fromtimestamp(int(val)).year\n",
    "    return year\n",
    "\n",
    "def transformMonth(val):\n",
    "    month = datetime.datetime.fromtimestamp(val).month\n",
    "    return month\n",
    "\n",
    "def get_latitude(val):\n",
    "    res = val['latitude']\n",
    "    return res\n",
    "\n",
    "def get_longitude(val):\n",
    "    res = val['longitude']\n",
    "    return res\n",
    "\n",
    "def preprocess_data(df_input):\n",
    "    df_output = df_input\n",
    "    df_output = pd.get_dummies(df_output)\n",
    "    return df_output\n",
    "\n",
    "def data_initial_preproc (df_input, sample = 'train'):\n",
    "    \n",
    "    df_output = df_input\n",
    "    df_output['can_buy'] = df_output['can_buy'].map(lambda s: replace_logical(s))\n",
    "    df_output['can_promote'] = df_output['can_promote'].map(lambda s: replace_logical(s))\n",
    "    df_output['contacts_visible'] = df_output['contacts_visible'].map(lambda s: replace_logical(s))\n",
    "    df_output['mortgage_available'] = df_output['mortgage_available'].map(lambda s: replace_logical(s))\n",
    "    df_output['delivery_available'] = df_output['delivery_available'].map(lambda s: replace_logical(s))\n",
    "    df_output['payment_available'] = df_output['payment_available'].map(lambda s: replace_logical(s))\n",
    "    df_output['year']=df_output['date_created'].map(transformYear)\n",
    "    df_output['month']=df_output['date_created'].map(transformMonth)\n",
    "    \n",
    "    df_output = df_output.drop(['date_created', 'description', 'fields','id', 'images', 'subway'], axis = 1)\n",
    "    df_output = df_output.drop(['can_buy', 'can_promote', 'category'], axis = 1)\n",
    "    df_output = df_output.drop(['name'], axis = 1)\n",
    "    df_output['latitude'] = df_output['location'].map(get_latitude)\n",
    "    df_output['longitude'] = df_output['location'].map(get_longitude)\n",
    "    df_output = df_output.drop(['location'],axis = 1)\n",
    "    if sample == 'train': \n",
    "        ### выбросим цены за перелами 99% персентиля\n",
    "        tmp = df_train[['price', 'subcategory']].groupby('subcategory').quantile(q=[0.01, 0.99]).reset_index()\n",
    "        list_df = []\n",
    "        for i in tqdm(list(set(df_train['subcategory']))):\n",
    "            list_df.append(\n",
    "            df_train[\n",
    "                (df_train['subcategory']==i)&\n",
    "                (df_train['price'] >=list(tmp[(tmp['subcategory'] == i) & (tmp['level_1'] == 0.01)].price)[0])&\n",
    "                (df_train['price'] <=list(tmp[(tmp['subcategory'] == i) & (tmp['level_1'] == 0.99)].price)[0])])\n",
    "        df_without_bad = pd.concat(list_df)\n",
    "        \n",
    "        df_output['price'] = df_output['price']/100\n",
    "        df_output = df_output[df_output['price']>0]\n",
    "        df_output['price'] = np.log10(df_output['price'] + 1)\n",
    "    \n",
    "    df_output['subcategory'] = df_output['subcategory'].map(lambda s: 'S' + str(s))\n",
    "    df_output = df_output.pipe(preprocess_data)\n",
    "    \n",
    "    return df_output"
   ]
  },
  {
   "cell_type": "code",
   "execution_count": 4,
   "metadata": {
    "collapsed": true
   },
   "outputs": [],
   "source": [
    "df_train = pickle.load(open(\"./train_sample.pckl\",'rb'))"
   ]
  },
  {
   "cell_type": "code",
   "execution_count": 5,
   "metadata": {},
   "outputs": [
    {
     "data": {
      "text/plain": [
       "(100000, 17)"
      ]
     },
     "execution_count": 5,
     "metadata": {},
     "output_type": "execute_result"
    }
   ],
   "source": [
    "df_train.shape"
   ]
  },
  {
   "cell_type": "code",
   "execution_count": 6,
   "metadata": {},
   "outputs": [
    {
     "data": {
      "text/plain": [
       "(100000, 17)"
      ]
     },
     "execution_count": 6,
     "metadata": {},
     "output_type": "execute_result"
    }
   ],
   "source": [
    "df_train.shape"
   ]
  },
  {
   "cell_type": "code",
   "execution_count": 7,
   "metadata": {},
   "outputs": [
    {
     "name": "stderr",
     "output_type": "stream",
     "text": [
      "100%|███████████████████████████████████████████████████████████████████████████████| 248/248 [00:01<00:00, 161.02it/s]\n"
     ]
    }
   ],
   "source": [
    "df_train = df_train.pipe(data_initial_preproc)"
   ]
  },
  {
   "cell_type": "code",
   "execution_count": null,
   "metadata": {
    "collapsed": true
   },
   "outputs": [],
   "source": [
    "#price_ranges = pd.DataFrame()\n",
    "#for i, k in enumerate(df_train['subcategory'].unique()):\n",
    "#    print (i, k, df_train[df_train['subcategory']==k]['price'].median(), df_train[df_train['subcategory']==k]['price'].max(), df_train[df_train['subcategory']==k]['price'].std())\n",
    "#    price_ranges[k] = df_train[df_train['subcategory']==k]['price'].median() +1.5*df_train[df_train['subcategory']==k]['price'].std()\n",
    "    "
   ]
  },
  {
   "cell_type": "code",
   "execution_count": 60,
   "metadata": {
    "collapsed": true
   },
   "outputs": [],
   "source": [
    "#for i in df_train['subcategory'].unique():"
   ]
  },
  {
   "cell_type": "code",
   "execution_count": 8,
   "metadata": {},
   "outputs": [
    {
     "data": {
      "text/html": [
       "<div>\n",
       "<style>\n",
       "    .dataframe thead tr:only-child th {\n",
       "        text-align: right;\n",
       "    }\n",
       "\n",
       "    .dataframe thead th {\n",
       "        text-align: left;\n",
       "    }\n",
       "\n",
       "    .dataframe tbody tr th {\n",
       "        vertical-align: top;\n",
       "    }\n",
       "</style>\n",
       "<table border=\"1\" class=\"dataframe\">\n",
       "  <thead>\n",
       "    <tr style=\"text-align: right;\">\n",
       "      <th></th>\n",
       "      <th>contacts_visible</th>\n",
       "      <th>delivery_available</th>\n",
       "      <th>mortgage_available</th>\n",
       "      <th>payment_available</th>\n",
       "      <th>price</th>\n",
       "      <th>year</th>\n",
       "      <th>month</th>\n",
       "      <th>latitude</th>\n",
       "      <th>longitude</th>\n",
       "      <th>subcategory_S10001</th>\n",
       "      <th>...</th>\n",
       "      <th>subcategory_S907</th>\n",
       "      <th>subcategory_S908</th>\n",
       "      <th>subcategory_S909</th>\n",
       "      <th>subcategory_S910</th>\n",
       "      <th>subcategory_S911</th>\n",
       "      <th>subcategory_S912</th>\n",
       "      <th>subcategory_S914</th>\n",
       "      <th>subcategory_S919</th>\n",
       "      <th>subcategory_S920</th>\n",
       "      <th>subcategory_S921</th>\n",
       "    </tr>\n",
       "  </thead>\n",
       "  <tbody>\n",
       "    <tr>\n",
       "      <th>0</th>\n",
       "      <td>1</td>\n",
       "      <td>0</td>\n",
       "      <td>0</td>\n",
       "      <td>1</td>\n",
       "      <td>3.30103</td>\n",
       "      <td>2017</td>\n",
       "      <td>4</td>\n",
       "      <td>55.806888</td>\n",
       "      <td>37.546077</td>\n",
       "      <td>0</td>\n",
       "      <td>...</td>\n",
       "      <td>0</td>\n",
       "      <td>0</td>\n",
       "      <td>0</td>\n",
       "      <td>0</td>\n",
       "      <td>0</td>\n",
       "      <td>0</td>\n",
       "      <td>1</td>\n",
       "      <td>0</td>\n",
       "      <td>0</td>\n",
       "      <td>0</td>\n",
       "    </tr>\n",
       "  </tbody>\n",
       "</table>\n",
       "<p>1 rows × 257 columns</p>\n",
       "</div>"
      ],
      "text/plain": [
       "   contacts_visible  delivery_available  mortgage_available  \\\n",
       "0                 1                   0                   0   \n",
       "\n",
       "   payment_available    price  year  month   latitude  longitude  \\\n",
       "0                  1  3.30103  2017      4  55.806888  37.546077   \n",
       "\n",
       "   subcategory_S10001        ...         subcategory_S907  subcategory_S908  \\\n",
       "0                   0        ...                        0                 0   \n",
       "\n",
       "   subcategory_S909  subcategory_S910  subcategory_S911  subcategory_S912  \\\n",
       "0                 0                 0                 0                 0   \n",
       "\n",
       "   subcategory_S914  subcategory_S919  subcategory_S920  subcategory_S921  \n",
       "0                 1                 0                 0                 0  \n",
       "\n",
       "[1 rows x 257 columns]"
      ]
     },
     "execution_count": 8,
     "metadata": {},
     "output_type": "execute_result"
    }
   ],
   "source": [
    "df_train.head(1)"
   ]
  },
  {
   "cell_type": "code",
   "execution_count": 9,
   "metadata": {},
   "outputs": [
    {
     "data": {
      "text/plain": [
       "(97193, 257)"
      ]
     },
     "execution_count": 9,
     "metadata": {},
     "output_type": "execute_result"
    }
   ],
   "source": [
    "df_train.shape"
   ]
  },
  {
   "cell_type": "code",
   "execution_count": 10,
   "metadata": {
    "collapsed": true
   },
   "outputs": [],
   "source": [
    "X = df_train.drop(['price'],axis=1).values\n",
    "y = df_train['price'].values"
   ]
  },
  {
   "cell_type": "code",
   "execution_count": 11,
   "metadata": {
    "collapsed": true
   },
   "outputs": [],
   "source": [
    "from sklearn.model_selection import train_test_split"
   ]
  },
  {
   "cell_type": "code",
   "execution_count": 12,
   "metadata": {
    "collapsed": true
   },
   "outputs": [],
   "source": [
    "X_train, X_test, y_train, y_test = train_test_split(X, y, train_size = 0.8)"
   ]
  },
  {
   "cell_type": "code",
   "execution_count": 13,
   "metadata": {
    "collapsed": true
   },
   "outputs": [],
   "source": [
    "from sklearn.metrics import mean_squared_error"
   ]
  },
  {
   "cell_type": "code",
   "execution_count": 14,
   "metadata": {
    "collapsed": true
   },
   "outputs": [],
   "source": [
    "#from sklearn.linear_model import LinearRegression\n",
    "#model = LinearRegression(n_jobs = 1000, normalize = True)\n",
    "#model.fit(X_train, y_train)\n",
    "#y_pred = model.predict(X_test)\n",
    "#result = mean_squared_error(y_test, y_pred)\n",
    "#result"
   ]
  },
  {
   "cell_type": "code",
   "execution_count": 15,
   "metadata": {
    "collapsed": true
   },
   "outputs": [],
   "source": [
    "from sklearn.ensemble import RandomForestRegressor\n",
    "\n",
    "model = RandomForestRegressor(n_estimators=50, n_jobs=5)\n",
    "model.fit(X_train, y_train)\n",
    "y_pred = model.predict(X_test)"
   ]
  },
  {
   "cell_type": "code",
   "execution_count": 16,
   "metadata": {},
   "outputs": [
    {
     "data": {
      "text/plain": [
       "RandomForestRegressor(bootstrap=True, criterion='mse', max_depth=None,\n",
       "           max_features='auto', max_leaf_nodes=None,\n",
       "           min_impurity_split=1e-07, min_samples_leaf=1,\n",
       "           min_samples_split=2, min_weight_fraction_leaf=0.0,\n",
       "           n_estimators=50, n_jobs=5, oob_score=False, random_state=None,\n",
       "           verbose=0, warm_start=False)"
      ]
     },
     "execution_count": 16,
     "metadata": {},
     "output_type": "execute_result"
    }
   ],
   "source": [
    "model"
   ]
  },
  {
   "cell_type": "code",
   "execution_count": 17,
   "metadata": {
    "collapsed": true
   },
   "outputs": [],
   "source": [
    "result = mean_squared_error(y_test, y_pred)"
   ]
  },
  {
   "cell_type": "code",
   "execution_count": 18,
   "metadata": {},
   "outputs": [
    {
     "data": {
      "text/plain": [
       "0.23338156672673294"
      ]
     },
     "execution_count": 18,
     "metadata": {},
     "output_type": "execute_result"
    }
   ],
   "source": [
    "result"
   ]
  },
  {
   "cell_type": "code",
   "execution_count": 19,
   "metadata": {
    "collapsed": true
   },
   "outputs": [],
   "source": [
    "pickle.dump(model, open(\"model.pckl\", \"wb\"))"
   ]
  },
  {
   "cell_type": "code",
   "execution_count": 20,
   "metadata": {
    "collapsed": true
   },
   "outputs": [],
   "source": [
    "df_test = pickle.load(open(\"./test_hack.pckl\",'rb'))"
   ]
  },
  {
   "cell_type": "code",
   "execution_count": 21,
   "metadata": {
    "collapsed": true
   },
   "outputs": [],
   "source": [
    "df_test_id = df_test['id']"
   ]
  },
  {
   "cell_type": "code",
   "execution_count": 22,
   "metadata": {
    "collapsed": true
   },
   "outputs": [],
   "source": [
    "df_test = data_initial_preproc(df_test, sample='test')"
   ]
  },
  {
   "cell_type": "code",
   "execution_count": 23,
   "metadata": {
    "collapsed": true
   },
   "outputs": [],
   "source": [
    "X_pred = df_test.values"
   ]
  },
  {
   "cell_type": "code",
   "execution_count": 24,
   "metadata": {},
   "outputs": [
    {
     "data": {
      "text/plain": [
       "array([[ 1.,  1.,  0., ...,  0.,  0.,  0.],\n",
       "       [ 1.,  0.,  0., ...,  0.,  0.,  0.],\n",
       "       [ 1.,  0.,  0., ...,  0.,  0.,  0.],\n",
       "       ..., \n",
       "       [ 1.,  0.,  0., ...,  0.,  0.,  0.],\n",
       "       [ 1.,  0.,  0., ...,  0.,  0.,  0.],\n",
       "       [ 1.,  0.,  0., ...,  0.,  0.,  0.]])"
      ]
     },
     "execution_count": 24,
     "metadata": {},
     "output_type": "execute_result"
    }
   ],
   "source": [
    "X_pred"
   ]
  },
  {
   "cell_type": "code",
   "execution_count": 25,
   "metadata": {
    "collapsed": true
   },
   "outputs": [],
   "source": [
    "y_hat = model.predict(X_pred)"
   ]
  },
  {
   "cell_type": "code",
   "execution_count": 26,
   "metadata": {},
   "outputs": [
    {
     "data": {
      "text/plain": [
       "array([ 3.33223841,  3.65815782,  3.5270032 , ...,  2.89583916,\n",
       "        3.23034939,  3.10192783])"
      ]
     },
     "execution_count": 26,
     "metadata": {},
     "output_type": "execute_result"
    }
   ],
   "source": [
    "y_hat"
   ]
  },
  {
   "cell_type": "code",
   "execution_count": 27,
   "metadata": {},
   "outputs": [
    {
     "data": {
      "text/plain": [
       "(749525,)"
      ]
     },
     "execution_count": 27,
     "metadata": {},
     "output_type": "execute_result"
    }
   ],
   "source": [
    "y_hat.shape"
   ]
  },
  {
   "cell_type": "code",
   "execution_count": 28,
   "metadata": {
    "collapsed": true
   },
   "outputs": [],
   "source": [
    "result = 10**y_hat - 1"
   ]
  },
  {
   "cell_type": "code",
   "execution_count": 29,
   "metadata": {},
   "outputs": [],
   "source": [
    "submission = pd.DataFrame()\n",
    "submission.loc[:,'id'] = df_test_id.reset_index()['id']\n",
    "submission.loc[:,'price'] = result\n",
    "submission.to_csv('submission.csv', sep=',', index=False, encoding='utf-8')"
   ]
  },
  {
   "cell_type": "code",
   "execution_count": null,
   "metadata": {
    "collapsed": true
   },
   "outputs": [],
   "source": []
  }
 ],
 "metadata": {
  "kernelspec": {
   "display_name": "Python 3",
   "language": "python",
   "name": "python3"
  },
  "language_info": {
   "codemirror_mode": {
    "name": "ipython",
    "version": 3
   },
   "file_extension": ".py",
   "mimetype": "text/x-python",
   "name": "python",
   "nbconvert_exporter": "python",
   "pygments_lexer": "ipython3",
   "version": "3.6.1"
  }
 },
 "nbformat": 4,
 "nbformat_minor": 2
}
